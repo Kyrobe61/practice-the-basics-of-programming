{
  "nbformat": 4,
  "nbformat_minor": 0,
  "metadata": {
    "colab": {
      "provenance": []
    },
    "kernelspec": {
      "name": "python3",
      "display_name": "Python 3"
    },
    "language_info": {
      "name": "python"
    }
  },
  "cells": [
    {
      "cell_type": "code",
      "execution_count": null,
      "metadata": {
        "colab": {
          "base_uri": "https://localhost:8080/"
        },
        "id": "jHhC0UdCtN27",
        "outputId": "4a589151-f68d-411c-84b0-fbf60d31c51f"
      },
      "outputs": [
        {
          "output_type": "stream",
          "name": "stdout",
          "text": [
            "Enter the bulk modulus of the liquid (in GPa): 2.2\n",
            "Enter the density of the liquid (in kg/m^3): 1030\n",
            "Enter the measured distance between object and drone: 10000\n",
            "Enter the altitude of the drone: 7000\n",
            "Calculated speed of sound in liquid is: 1461.48 m/sec.\n",
            "0 hour(s), 0 minute(s), 44 second(s), 921.7553 millisecond(s).\n"
          ]
        }
      ],
      "source": [
        "sound_speed_for_air = 343 # meters per second\n",
        "\n",
        "\n",
        "bulk_modulus = float(input(\"Enter the bulk modulus of the liquid (in GPa): \")) # K (Pa) 1 GPa = 10E9Pa\n",
        "liquid_density = float(input(\"Enter the density of the liquid (in kg/m^3): \")) # p (kg/m3)\n",
        "distance = float(input(\"Enter the measured distance between object and drone: \")) # (m)\n",
        "altitude = float(input(\"Enter the altitude of the drone: \")) # (m) # x in air\n",
        "\n",
        "x_in_liquid = distance - altitude\n",
        "\n",
        "bulk_modulus = bulk_modulus * (10 ** 9) # 1 GPa = 10E9Pa\n",
        "\n",
        "sound_speed_for_liquids = (bulk_modulus / liquid_density) ** 0.5 # squareroot of it #C (m/s)\n",
        "\n",
        "time_in_air = (altitude * 2) / sound_speed_for_air               # x = v * t --> t = x / v\n",
        "time_in_liquid = (x_in_liquid * 2) / sound_speed_for_liquids\n",
        "total_sec = time_in_air + time_in_liquid\n",
        "\n",
        "\n",
        "hour = int(total_sec // 3600)\n",
        "min = int((total_sec % 3600) // 60)\n",
        "sec = int(total_sec % 60)\n",
        "ms = (total_sec - int(total_sec)) * (10 ** 3)\n",
        "#ms = int(sec // (10**3))   # 1s = 10E3ms\n",
        "\n",
        "print()\n",
        "print(f\"Calculated speed of sound in liquid is: {sound_speed_for_liquids:.2f} m/sec.\")\n",
        "print(f\"{hour} hour(s), {min} minute(s), {sec} second(s), {ms:.4f} millisecond(s).\")\n"
      ]
    }
  ]
}